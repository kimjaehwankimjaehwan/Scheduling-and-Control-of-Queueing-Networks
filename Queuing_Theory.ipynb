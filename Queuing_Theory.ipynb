{
  "nbformat": 4,
  "nbformat_minor": 0,
  "metadata": {
    "colab": {
      "provenance": [],
      "authorship_tag": "ABX9TyO00rLjndsExnG8hCi2zibs",
      "include_colab_link": true
    },
    "kernelspec": {
      "name": "python3",
      "display_name": "Python 3"
    },
    "language_info": {
      "name": "python"
    }
  },
  "cells": [
    {
      "cell_type": "markdown",
      "metadata": {
        "id": "view-in-github",
        "colab_type": "text"
      },
      "source": [
        "<a href=\"https://colab.research.google.com/github/kimjaehwankimjaehwan/Scheduling-and-Control-of-Queueing-Networks/blob/main/Queuing_Theory.ipynb\" target=\"_parent\"><img src=\"https://colab.research.google.com/assets/colab-badge.svg\" alt=\"Open In Colab\"/></a>"
      ]
    },
    {
      "cell_type": "markdown",
      "source": [
        "# I. ***기본모델***"
      ],
      "metadata": {
        "id": "HbPZf2QWetq-"
      }
    },
    {
      "cell_type": "markdown",
      "source": [
        "## 1. M/M/1 모델 - 은행 창구 대기 시스템 예시\n",
        "\n",
        "사례 설명:\n",
        "\n",
        "* 고객은 평균적으로 3분마다 은행에 도착합니다.\n",
        "\n",
        "* 창구 직원은 평균적으로 4분에 한 명의 고객을 처리할 수 있습니다."
      ],
      "metadata": {
        "id": "g06vGzPDc9w7"
      }
    },
    {
      "cell_type": "code",
      "execution_count": null,
      "metadata": {
        "colab": {
          "base_uri": "https://localhost:8080/"
        },
        "id": "tj07i-Zbc82S",
        "outputId": "c8e43162-73ff-4863-dd53-a6e16eb8d57c"
      },
      "outputs": [
        {
          "output_type": "stream",
          "name": "stdout",
          "text": [
            "M/M/1 모델 예시 (은행 창구 대기 시스템)\n",
            "시스템 이용률 (ρ): 1.33\n",
            "평균 시스템 내 고객 수 (L): -4.00\n",
            "평균 대기 고객 수 (Lq): -5.33\n",
            "평균 체류 시간 (W): -12.00분\n",
            "평균 대기 시간 (Wq): -16.00분\n"
          ]
        }
      ],
      "source": [
        "# M/M/1 모델 적용\n",
        "import numpy as np\n",
        "\n",
        "# 입력 변수\n",
        "λ = 1 / 3  # 고객 도착률 (분당 평균 도착 횟수 = 1 / 평균 도착 간격)\n",
        "μ = 1 / 4  # 서비스율 (분당 평균 서비스 횟수 = 1 / 평균 서비스 시간)\n",
        "\n",
        "# 계산\n",
        "ρ = λ / μ  # 시스템 이용률\n",
        "L = λ / (μ - λ)  # 평균 시스템 내 고객 수\n",
        "Lq = λ**2 / (μ * (μ - λ))  # 평균 대기 고객 수\n",
        "W = 1 / (μ - λ)  # 평균 체류 시간\n",
        "Wq = λ / (μ * (μ - λ))  # 평균 대기 시간\n",
        "\n",
        "\n",
        "print(\"M/M/1 모델 예시 (은행 창구 대기 시스템)\")\n",
        "print(f\"시스템 이용률 (ρ): {ρ:.2f}\")\n",
        "print(f\"평균 시스템 내 고객 수 (L): {L:.2f}\")\n",
        "print(f\"평균 대기 고객 수 (Lq): {Lq:.2f}\")\n",
        "print(f\"평균 체류 시간 (W): {W:.2f}분\")\n",
        "print(f\"평균 대기 시간 (Wq): {Wq:.2f}분\")\n"
      ]
    },
    {
      "cell_type": "markdown",
      "source": [
        "## 2. M/M/c 모델 - 슈퍼마켓 계산대 대기 시스템 예시\n",
        "\n",
        "사례 설명:\n",
        "\n",
        "* 고객은 평균적으로 2분마다 슈퍼마켓에 도착합니다.\n",
        "\n",
        "* 3개의 계산대가 있으며, 각 계산대는 평균적으로 5분에 한 명의 고객을 처리할 수 있습니다."
      ],
      "metadata": {
        "id": "YINydjIkdQRG"
      }
    },
    {
      "cell_type": "code",
      "source": [
        "# M/M/c 모델 적용\n",
        "from math import factorial\n",
        "\n",
        "# 입력 변수\n",
        "λ = 1 / 2  # 고객 도착률 (분당 평균 도착 횟수)\n",
        "μ = 1 / 5  # 서비스율 (분당 평균 서비스 횟수)\n",
        "c = 3  # 서버의 수\n",
        "\n",
        "# 시스템 이용률 계산\n",
        "ρ = λ / (c * μ)\n",
        "\n",
        "# P0 계산 (시스템이 비어 있는 확률)\n",
        "P0_inv = sum([(λ / μ)**n / factorial(n) for n in range(c)]) + ((λ / μ)**c / (factorial(c) * (1 - ρ)))\n",
        "P0 = 1 / P0_inv\n",
        "\n",
        "# 평균 대기 고객 수 (Lq)\n",
        "Lq = ((λ / μ)**c * ρ / (factorial(c) * (1 - ρ)**2)) * P0\n",
        "\n",
        "# 평균 시스템 내 고객 수 (L)\n",
        "L = Lq + λ / μ\n",
        "\n",
        "# 평균 대기 시간 (Wq)\n",
        "Wq = Lq / λ\n",
        "\n",
        "# 평균 체류 시간 (W)\n",
        "W = Wq + 1 / μ\n",
        "\n",
        "\n",
        "print(\"\\nM/M/c 모델 예시 (슈퍼마켓 계산대 대기 시스템)\")\n",
        "print(f\"시스템 이용률 (ρ): {ρ:.2f}\")\n",
        "print(f\"평균 시스템 내 고객 수 (L): {L:.2f}\")\n",
        "print(f\"평균 대기 고객 수 (Lq): {Lq:.2f}\")\n",
        "print(f\"평균 체류 시간 (W): {W:.2f}분\")\n",
        "print(f\"평균 대기 시간 (Wq): {Wq:.2f}분\")\n"
      ],
      "metadata": {
        "colab": {
          "base_uri": "https://localhost:8080/"
        },
        "id": "hyzmnF2OdRug",
        "outputId": "dd63bf8d-eb12-4b5a-9b29-05136e166438"
      },
      "execution_count": null,
      "outputs": [
        {
          "output_type": "stream",
          "name": "stdout",
          "text": [
            "\n",
            "M/M/c 모델 예시 (슈퍼마켓 계산대 대기 시스템)\n",
            "시스템 이용률 (ρ): 0.83\n",
            "평균 시스템 내 고객 수 (L): 6.01\n",
            "평균 대기 고객 수 (Lq): 3.51\n",
            "평균 체류 시간 (W): 12.02분\n",
            "평균 대기 시간 (Wq): 7.02분\n"
          ]
        }
      ]
    },
    {
      "cell_type": "markdown",
      "source": [
        "## 3. M/G/1 모델 - 콜센터 운영 예시\n",
        "\n",
        "사례 설명:\n",
        "\n",
        "* 평균적으로 1분마다 전화가 걸려옴 (λ = 1)\n",
        "\n",
        "* 상담 시간의 평균은 4분이며, 분산은 2분^2 (서비스 시간이 일반 분포를 따름)"
      ],
      "metadata": {
        "id": "2pe0MI-edh33"
      }
    },
    {
      "cell_type": "code",
      "source": [
        "# M/G/1 모델 적용\n",
        "# 입력 변수\n",
        "λ = 1  # 고객 도착률 (분당 평균 도착 횟수)\n",
        "E_S = 4  # 평균 서비스 시간\n",
        "Var_S = 2  # 서비스 시간 분산\n",
        "μ = 1 / E_S  # 서비스율 (분당 평균 서비스 횟수)\n",
        "\n",
        "# 시스템 이용률 계산\n",
        "ρ = λ * E_S\n",
        "\n",
        "# 서비스 시간의 제곱평균 계산\n",
        "E_S2 = Var_S + E_S**2\n",
        "\n",
        "# 평균 대기 고객 수 (Lq) 계산 (Pollaczek-Khinchine 공식)\n",
        "Lq = (λ**2 * E_S2) / (2 * (1 - ρ))\n",
        "\n",
        "# 평균 시스템 내 고객 수 (L)\n",
        "L = Lq + ρ\n",
        "\n",
        "# 평균 대기 시간 (Wq)\n",
        "Wq = Lq / λ\n",
        "\n",
        "# 평균 체류 시간 (W)\n",
        "W = Wq + E_S\n",
        "\n",
        "\n",
        "print(\"\\nM/G/1 모델 예시 (콜센터 운영 시스템)\")\n",
        "print(f\"시스템 이용률 (ρ): {ρ:.2f}\")\n",
        "print(f\"평균 시스템 내 고객 수 (L): {L:.2f}\")\n",
        "print(f\"평균 대기 고객 수 (Lq): {Lq:.2f}\")\n",
        "print(f\"평균 체류 시간 (W): {W:.2f}분\")\n",
        "print(f\"평균 대기 시간 (Wq): {Wq:.2f}분\")\n"
      ],
      "metadata": {
        "colab": {
          "base_uri": "https://localhost:8080/"
        },
        "id": "GGVhZNsxdikR",
        "outputId": "65be1191-7b0a-4779-a0c6-db4f031f394f"
      },
      "execution_count": null,
      "outputs": [
        {
          "output_type": "stream",
          "name": "stdout",
          "text": [
            "\n",
            "M/G/1 모델 예시 (콜센터 운영 시스템)\n",
            "시스템 이용률 (ρ): 4.00\n",
            "평균 시스템 내 고객 수 (L): 1.00\n",
            "평균 대기 고객 수 (Lq): -3.00\n",
            "평균 체류 시간 (W): 1.00분\n",
            "평균 대기 시간 (Wq): -3.00분\n"
          ]
        }
      ]
    },
    {
      "cell_type": "markdown",
      "source": [
        "# ***II. 특수한 상황하의 모델***"
      ],
      "metadata": {
        "id": "t9EMQIdNdr-E"
      }
    },
    {
      "cell_type": "markdown",
      "source": [
        "##1. M/M/∞ 모델 (무한 서버 모델)\n",
        "\n",
        "고객은 즉시 서비스를 받을 수 있는 무한한 수의 서버가 있는 상황을 가정합니다."
      ],
      "metadata": {
        "id": "vSYxMJqje_tI"
      }
    },
    {
      "cell_type": "code",
      "source": [
        "# M/M/∞ 모델\n",
        "λ = 10  # 고객 도착률 (예: 시간당 10명 도착)\n",
        "μ = 5   # 서비스율 (예: 한 서버당 시간당 5명의 고객 처리 가능)\n",
        "\n",
        "# 평균 시스템 내 고객 수 (L) 및 평균 체류 시간 (W) 계산\n",
        "L = λ / μ\n",
        "W = 1 / μ\n",
        "\n",
        "print(\"M/M/∞ 모델 결과\")\n",
        "print(f\"평균 시스템 내 고객 수 (L): {L:.2f}\")\n",
        "print(f\"평균 체류 시간 (W): {W:.2f} 시간\")\n"
      ],
      "metadata": {
        "colab": {
          "base_uri": "https://localhost:8080/"
        },
        "id": "20DYEdicdsfH",
        "outputId": "67782fab-97e5-4f68-8be8-b264aeaeea23"
      },
      "execution_count": null,
      "outputs": [
        {
          "output_type": "stream",
          "name": "stdout",
          "text": [
            "M/M/∞ 모델 결과\n",
            "평균 시스템 내 고객 수 (L): 2.00\n",
            "평균 체류 시간 (W): 0.20 시간\n"
          ]
        }
      ]
    },
    {
      "cell_type": "markdown",
      "source": [
        "##2. M/M/1/K 모델 (유한 대기 공간 모델)\n",
        "\n",
        "대기 공간이 제한되어 있으며, 공간이 가득 찬 경우 고객은 서비스를 받지 않고 떠납니다."
      ],
      "metadata": {
        "id": "s3LZdWGLfG3F"
      }
    },
    {
      "cell_type": "code",
      "source": [
        "# M/M/1/K 모델\n",
        "λ = 5   # 고객 도착률 (예: 시간당 5명 도착)\n",
        "μ = 8   # 서비스율 (예: 시간당 8명의 고객 처리 가능)\n",
        "K = 10  # 최대 대기 공간\n",
        "\n",
        "# 시스템 이용률\n",
        "ρ = λ / μ\n",
        "\n",
        "# P0 계산 (시스템이 비어있는 확률)\n",
        "P0 = (1 - ρ) / (1 - ρ**(K + 1))\n",
        "\n",
        "# 평균 시스템 내 고객 수 (L) 계산\n",
        "L = sum(n * (ρ**n) * P0 for n in range(K + 1))\n",
        "\n",
        "# 평균 체류 시간 (W) 계산\n",
        "W = L / λ if λ != 0 else 0\n",
        "\n",
        "print(\"\\nM/M/1/K 모델 결과\")\n",
        "print(f\"평균 시스템 내 고객 수 (L): {L:.2f}\")\n",
        "print(f\"평균 체류 시간 (W): {W:.2f} 시간\")\n"
      ],
      "metadata": {
        "colab": {
          "base_uri": "https://localhost:8080/"
        },
        "id": "ji5vGSP2fHVk",
        "outputId": "b4d7d77c-8797-4f46-e57e-0103801877f0"
      },
      "execution_count": null,
      "outputs": [
        {
          "output_type": "stream",
          "name": "stdout",
          "text": [
            "\n",
            "M/M/1/K 모델 결과\n",
            "평균 시스템 내 고객 수 (L): 1.60\n",
            "평균 체류 시간 (W): 0.32 시간\n"
          ]
        }
      ]
    },
    {
      "cell_type": "markdown",
      "source": [
        "##3. M/G/c 모델 (다중 서버 및 일반 서비스 시간 분포)\n",
        "\n",
        "다수의 서버(c)와 일반 서비스 시간 분포를 가정합니다."
      ],
      "metadata": {
        "id": "j2uuys9PfLqm"
      }
    },
    {
      "cell_type": "code",
      "source": [
        "import warnings\n",
        "warnings.filterwarnings(action='ignore')\n",
        "\n",
        "# M/G/c 모델\n",
        "import numpy as np\n",
        "\n",
        "λ = 10  # 고객 도착률 (시간당 10명 도착)\n",
        "μ = 4   # 평균 서비스율 (시간당 4명 처리 가능)\n",
        "c = 3   # 서버 수\n",
        "\n",
        "# 시스템 이용률\n",
        "ρ = λ / (c * μ)\n",
        "\n",
        "# P0 계산\n",
        "P0_inv = sum([(λ / μ)**n / np.math.factorial(n) for n in range(c)]) + ((λ / μ)**c / (np.math.factorial(c) * (1 - ρ)))\n",
        "P0 = 1 / P0_inv\n",
        "\n",
        "# 평균 대기 고객 수 (Lq) 계산\n",
        "E_S2 = 1 / (μ**2)  # 서비스 시간의 분산을 단순화하여 계산\n",
        "Lq = (P0 * ((λ / μ)**c) * ρ) / (np.math.factorial(c) * ((1 - ρ)**2))\n",
        "\n",
        "# 평균 시스템 내 고객 수 (L)\n",
        "L = Lq + λ / μ\n",
        "\n",
        "# 평균 대기 시간 (Wq) 및 체류 시간 (W)\n",
        "Wq = Lq / λ\n",
        "W = Wq + 1 / μ\n",
        "\n",
        "print(\"\\nM/G/c 모델 결과\")\n",
        "print(f\"평균 대기 고객 수 (Lq): {Lq:.2f}\")\n",
        "print(f\"평균 시스템 내 고객 수 (L): {L:.2f}\")\n",
        "print(f\"평균 대기 시간 (Wq): {Wq:.2f} 시간\")\n",
        "print(f\"평균 체류 시간 (W): {W:.2f} 시간\")\n"
      ],
      "metadata": {
        "colab": {
          "base_uri": "https://localhost:8080/"
        },
        "id": "hR-_2fY7fLvV",
        "outputId": "0d2c8e4e-02d4-4579-b214-7f588819575d"
      },
      "execution_count": null,
      "outputs": [
        {
          "output_type": "stream",
          "name": "stdout",
          "text": [
            "\n",
            "M/G/c 모델 결과\n",
            "평균 대기 고객 수 (Lq): 3.51\n",
            "평균 시스템 내 고객 수 (L): 6.01\n",
            "평균 대기 시간 (Wq): 0.35 시간\n",
            "평균 체류 시간 (W): 0.60 시간\n"
          ]
        }
      ]
    },
    {
      "cell_type": "markdown",
      "source": [
        "## 4. G/G/1 모델 (일반 도착 및 서비스 분포, 단일 서버)\n",
        "\n",
        "도착 시간과 서비스 시간이 일반 분포를 따르며, 분석이 어렵지만 간단한 시뮬레이션을 통해 추정할 수 있습니다."
      ],
      "metadata": {
        "id": "w1N6dB75fbHT"
      }
    },
    {
      "cell_type": "code",
      "source": [
        "import random\n",
        "\n",
        "# G/G/1 모델 시뮬레이션\n",
        "λ = 5  # 평균 도착률 (시간당 5명 도착)\n",
        "μ = 6  # 평균 서비스율 (시간당 6명 처리 가능)\n",
        "num_customers = 1000  # 시뮬레이션할 고객 수\n",
        "\n",
        "arrival_times = [random.expovariate(λ) for _ in range(num_customers)]\n",
        "service_times = [random.expovariate(μ) for _ in range(num_customers)]\n",
        "\n",
        "waiting_times = []\n",
        "current_time = 0\n",
        "queue = []\n",
        "\n",
        "for arrival, service in zip(arrival_times, service_times):\n",
        "    while queue and queue[0] <= current_time:\n",
        "        queue.pop(0)\n",
        "\n",
        "    queue.append(current_time + service)\n",
        "    waiting_times.append(max(0, current_time - arrival))\n",
        "    current_time += service\n",
        "\n",
        "average_waiting_time = sum(waiting_times) / len(waiting_times)\n",
        "\n",
        "print(\"\\nG/G/1 모델 시뮬레이션 결과\")\n",
        "print(f\"평균 대기 시간 (Wq): {average_waiting_time:.2f} 시간\")\n"
      ],
      "metadata": {
        "colab": {
          "base_uri": "https://localhost:8080/"
        },
        "id": "32FYD44FfbOR",
        "outputId": "c11f0142-4ebf-4e1f-8c7a-07e4b9852502"
      },
      "execution_count": null,
      "outputs": [
        {
          "output_type": "stream",
          "name": "stdout",
          "text": [
            "\n",
            "G/G/1 모델 시뮬레이션 결과\n",
            "평균 대기 시간 (Wq): 85.07 시간\n"
          ]
        }
      ]
    },
    {
      "cell_type": "markdown",
      "source": [
        "## 5. 우선순위 큐 모델 (Priority Queue Model)\n",
        "\n",
        "고객에게 우선순위를 부여하여 서비스 순서를 정하는 모델입니다."
      ],
      "metadata": {
        "id": "sdUqGgyofgZw"
      }
    },
    {
      "cell_type": "code",
      "source": [
        "from queue import PriorityQueue\n",
        "\n",
        "# 우선순위 큐 모델\n",
        "pq = PriorityQueue()\n",
        "\n",
        "# 5명의 고객의 도착 시간과 우선순위를 시뮬레이션\n",
        "customers = [(2, '고객 1'), (5, '고객 2'), (1, '고객 3'), (4, '고객 4'), (3, '고객 5')]\n",
        "\n",
        "# 우선순위 큐에 삽입\n",
        "for priority, customer in customers:\n",
        "    pq.put((priority, customer))\n",
        "\n",
        "print(\"\\n우선순위 큐 모델 결과 (낮은 숫자가 높은 우선순위)\")\n",
        "while not pq.empty():\n",
        "    print(pq.get())\n"
      ],
      "metadata": {
        "colab": {
          "base_uri": "https://localhost:8080/"
        },
        "id": "wfOD2GlVfge8",
        "outputId": "9c83d3a4-3ca5-402d-b49f-f204984ce74b"
      },
      "execution_count": null,
      "outputs": [
        {
          "output_type": "stream",
          "name": "stdout",
          "text": [
            "\n",
            "우선순위 큐 모델 결과 (낮은 숫자가 높은 우선순위)\n",
            "(1, '고객 3')\n",
            "(2, '고객 1')\n",
            "(3, '고객 5')\n",
            "(4, '고객 4')\n",
            "(5, '고객 2')\n"
          ]
        }
      ]
    },
    {
      "cell_type": "markdown",
      "source": [
        "##6. M/Ek/1 모델 (Erlang 서비스 분포)\n",
        "\n",
        "이 모델은 서비스 시간이 여러 단계로 구성된 Erlang 분포를 따르는 경우를 모델링합니다.\n",
        "\n",
        "서비스 시간이 k개의 지수 분포의 합으로 이루어져 있기 때문에 일반적인 M/M/1 모델에 비해 보다 현실적인 서비스 시간 분포를 가질 수 있습니다."
      ],
      "metadata": {
        "id": "Z9JJpP2Cgaun"
      }
    },
    {
      "cell_type": "code",
      "source": [
        "import numpy as np\n",
        "\n",
        "# M/Ek/1 모델\n",
        "λ = 5   # 고객 도착률 (시간당 5명)\n",
        "μ = 3   # 서비스율 (시간당 3명)\n",
        "k = 4   # Erlang 분포의 단계 수\n",
        "\n",
        "# 시스템 이용률\n",
        "ρ = λ / μ\n",
        "\n",
        "# 평균 대기 고객 수 (Lq) 계산\n",
        "Lq = (ρ**2) / (2 * (1 - ρ)) * (1 + (1 / k))\n",
        "\n",
        "# 평균 시스템 내 고객 수 (L)\n",
        "L = Lq + ρ\n",
        "\n",
        "# 평균 대기 시간 (Wq) 및 체류 시간 (W)\n",
        "Wq = Lq / λ\n",
        "W = Wq + 1 / μ\n",
        "\n",
        "print(\"\\nM/Ek/1 모델 결과\")\n",
        "print(f\"평균 대기 고객 수 (Lq): {Lq:.2f}\")\n",
        "print(f\"평균 시스템 내 고객 수 (L): {L:.2f}\")\n",
        "print(f\"평균 대기 시간 (Wq): {Wq:.2f} 시간\")\n",
        "print(f\"평균 체류 시간 (W): {W:.2f} 시간\")\n"
      ],
      "metadata": {
        "colab": {
          "base_uri": "https://localhost:8080/"
        },
        "id": "qMkR1Osdga4a",
        "outputId": "63938f01-3148-491c-e4cc-8e2cbdb24758"
      },
      "execution_count": null,
      "outputs": [
        {
          "output_type": "stream",
          "name": "stdout",
          "text": [
            "\n",
            "M/Ek/1 모델 결과\n",
            "평균 대기 고객 수 (Lq): -2.60\n",
            "평균 시스템 내 고객 수 (L): -0.94\n",
            "평균 대기 시간 (Wq): -0.52 시간\n",
            "평균 체류 시간 (W): -0.19 시간\n"
          ]
        }
      ]
    },
    {
      "cell_type": "markdown",
      "source": [
        "##7. Balking, Reneging, 그리고 Jockeying을 고려한 모델\n",
        "\n",
        "Balking: 고객이 대기열이 너무 길다고 판단하여 아예 줄 서지 않고 떠나는 경우.\n",
        "\n",
        "Reneging: 대기 중에 기다리다 지치거나 이유로 대기열을 떠나는 경우.\n",
        "\n",
        "Jockeying: 고객이 더 빠른 줄로 이동하는 경우."
      ],
      "metadata": {
        "id": "TsCNjkhmgpN-"
      }
    },
    {
      "cell_type": "code",
      "source": [
        "import random\n",
        "\n",
        "# Balking, Reneging, Jockeying 모델\n",
        "max_queue_length = 5  # 고객이 대기열의 길이가 5 이상이면 떠나는 현상(Balking)\n",
        "reneging_probability = 0.2  # 대기 중에 고객이 떠날 확률\n",
        "servers = 2  # 두 개의 서비스 창구를 가진 시스템\n",
        "\n",
        "# 시뮬레이션을 위한 고객 도착\n",
        "customers = [{'arrival_time': i, 'wait_time': 0, 'line': random.choice([1, 2])} for i in range(1, 20)]\n",
        "\n",
        "queue1 = []\n",
        "queue2 = []\n",
        "\n",
        "for customer in customers:\n",
        "    # Balking 현상: 대기열의 길이가 최대치를 넘으면 떠난다\n",
        "    if len(queue1) > max_queue_length and customer['line'] == 1:\n",
        "        print(f\"Customer {customer['arrival_time']} balked at line 1\")\n",
        "        continue\n",
        "    elif len(queue2) > max_queue_length and customer['line'] == 2:\n",
        "        print(f\"Customer {customer['arrival_time']} balked at line 2\")\n",
        "        continue\n",
        "\n",
        "    # Reneging 현상: 대기 중에 일정 확률로 떠남\n",
        "    if random.random() < reneging_probability:\n",
        "        print(f\"Customer {customer['arrival_time']} reneged from line {customer['line']}\")\n",
        "        continue\n",
        "\n",
        "    # Jockeying 현상: 짧은 대기열로 이동\n",
        "    if customer['line'] == 1 and len(queue1) > len(queue2):\n",
        "        print(f\"Customer {customer['arrival_time']} jockeyed to line 2\")\n",
        "        queue2.append(customer)\n",
        "    elif customer['line'] == 2 and len(queue2) > len(queue1):\n",
        "        print(f\"Customer {customer['arrival_time']} jockeyed to line 1\")\n",
        "        queue1.append(customer)\n",
        "    else:\n",
        "        if customer['line'] == 1:\n",
        "            queue1.append(customer)\n",
        "        else:\n",
        "            queue2.append(customer)\n",
        "\n",
        "print(f\"\\nLine 1 has {len(queue1)} customers, Line 2 has {len(queue2)} customers\")\n"
      ],
      "metadata": {
        "colab": {
          "base_uri": "https://localhost:8080/"
        },
        "id": "ZW1gKot2gpQv",
        "outputId": "5dcc95c4-8ea7-471f-9ebc-ee05c01e525e"
      },
      "execution_count": null,
      "outputs": [
        {
          "output_type": "stream",
          "name": "stdout",
          "text": [
            "Customer 2 jockeyed to line 1\n",
            "Customer 6 jockeyed to line 1\n",
            "Customer 7 reneged from line 2\n",
            "Customer 12 reneged from line 2\n",
            "Customer 14 balked at line 1\n",
            "Customer 15 reneged from line 2\n",
            "Customer 17 balked at line 1\n",
            "Customer 18 balked at line 1\n",
            "Customer 19 balked at line 1\n",
            "\n",
            "Line 1 has 6 customers, Line 2 has 6 customers\n"
          ]
        }
      ]
    },
    {
      "cell_type": "markdown",
      "source": [
        "##8. Network of Queues (대기행렬 네트워크)\n",
        "\n",
        "이 모델은 여러 개의 대기열이 연결되어 있는 시스템으로, 한 대기열에서 다른 대기열로 이동하는 구조를 시뮬레이션합니다."
      ],
      "metadata": {
        "id": "DS04srkkg0up"
      }
    },
    {
      "cell_type": "code",
      "source": [
        "# Network of Queues\n",
        "import random\n",
        "\n",
        "# 각 대기열의 처리율\n",
        "service_rates = [5, 4, 6]  # 세 개의 대기열이 있으며, 각각의 처리율\n",
        "\n",
        "# 고객 도착 및 대기열 이동\n",
        "num_customers = 100\n",
        "arrival_times = [random.expovariate(1) for _ in range(num_customers)]\n",
        "queues = [0, 0, 0]  # 각 대기열에 있는 고객 수\n",
        "\n",
        "for arrival in arrival_times:\n",
        "    # 첫 번째 대기열에 고객 추가\n",
        "    queues[0] += 1\n",
        "\n",
        "    # 각 대기열에서 다음 대기열로 이동하는 경우\n",
        "    for i in range(len(queues) - 1):\n",
        "        if queues[i] > 0:\n",
        "            move_probability = min(1, service_rates[i] / service_rates[i+1])\n",
        "            if random.random() < move_probability:\n",
        "                queues[i] -= 1\n",
        "                queues[i + 1] += 1\n",
        "\n",
        "print(\"\\nNetwork of Queues 결과\")\n",
        "print(f\"첫 번째 대기열 고객 수: {queues[0]}\")\n",
        "print(f\"두 번째 대기열 고객 수: {queues[1]}\")\n",
        "print(f\"세 번째 대기열 고객 수: {queues[2]}\")\n"
      ],
      "metadata": {
        "colab": {
          "base_uri": "https://localhost:8080/"
        },
        "id": "hwRNiMBRg1FP",
        "outputId": "fe57bb33-02c1-4101-f616-ce2caa467d5e"
      },
      "execution_count": null,
      "outputs": [
        {
          "output_type": "stream",
          "name": "stdout",
          "text": [
            "\n",
            "Network of Queues 결과\n",
            "첫 번째 대기열 고객 수: 0\n",
            "두 번째 대기열 고객 수: 30\n",
            "세 번째 대기열 고객 수: 70\n"
          ]
        }
      ]
    },
    {
      "cell_type": "markdown",
      "source": [
        "##9. Fluid Model (유체 모델)\n",
        "\n",
        "고객을 개별적으로 다루는 것이 아닌 연속적인 \"유체\"처럼 취급하여, 고객의 흐름을 계산합니다.\n",
        "\n",
        "이를 위해 파이썬에서는 연속적인 시간 흐름에 따른 변화량을 계산합니다."
      ],
      "metadata": {
        "id": "wO_LUGRWg7r6"
      }
    },
    {
      "cell_type": "code",
      "source": [
        "# Fluid Model\n",
        "import matplotlib.pyplot as plt\n",
        "\n",
        "λ = 10  # 평균 도착률 (시간당 10명)\n",
        "μ = 5   # 평균 서비스율 (시간당 5명)\n",
        "initial_customers = 0  # 초기 대기열에 있는 고객 수\n",
        "time_steps = 50  # 시뮬레이션 시간 간격\n",
        "dt = 0.1  # 시간 증분\n",
        "\n",
        "queue_length = initial_customers\n",
        "queue_lengths = []\n",
        "\n",
        "# 시간에 따른 고객 흐름 계산\n",
        "for t in range(int(time_steps / dt)):\n",
        "    arrival_rate = λ * dt\n",
        "    service_rate = min(queue_length, μ * dt)  # 처리할 수 있는 최대 고객 수\n",
        "\n",
        "    queue_length += arrival_rate - service_rate\n",
        "    queue_lengths.append(queue_length)\n",
        "\n",
        "plt.plot([dt * i for i in range(len(queue_lengths))], queue_lengths)\n",
        "plt.xlabel('Time')\n",
        "plt.ylabel('Queue Length')\n",
        "plt.title('Fluid Model - Queue Length Over Time')\n",
        "plt.show()\n"
      ],
      "metadata": {
        "colab": {
          "base_uri": "https://localhost:8080/",
          "height": 472
        },
        "id": "nL_t2O7Og7wc",
        "outputId": "f7997097-f3c3-4bc4-8bba-2ce7f628cd10"
      },
      "execution_count": null,
      "outputs": [
        {
          "output_type": "display_data",
          "data": {
            "text/plain": [
              "<Figure size 640x480 with 1 Axes>"
            ],
            "image/png": "[encoded data removed]"
          },
          "metadata": {}
        }
      ]
    }
  ]
}